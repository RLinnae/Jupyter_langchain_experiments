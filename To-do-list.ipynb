{
 "cells": [
  {
   "cell_type": "code",
   "execution_count": 255,
   "id": "316ccf28-797b-456f-9bb5-5b735bc00a01",
   "metadata": {},
   "outputs": [
    {
     "name": "stdout",
     "output_type": "stream",
     "text": [
      "Collecting python-dotenv\n",
      "  Using cached python_dotenv-1.0.0-py3-none-any.whl (19 kB)\n",
      "\u001b[33mWARNING: Error parsing requirements for jupyter-core: [Errno 2] No such file or directory: '/Users/rmccarthy/anaconda3/lib/python3.10/site-packages/jupyter_core-5.3.0.dist-info/METADATA'\u001b[0m\u001b[33m\n",
      "\u001b[0mInstalling collected packages: python-dotenv\n",
      "Successfully installed python-dotenv-1.0.0\n"
     ]
    }
   ],
   "source": [
    "!pip install python-dotenv"
   ]
  },
  {
   "cell_type": "code",
   "execution_count": 257,
   "id": "836efc30-5dc7-408e-bc74-ef5a1d4a338d",
   "metadata": {},
   "outputs": [
    {
     "name": "stdout",
     "output_type": "stream",
     "text": [
      "sk-xxxxxxxxx\n",
      "pl_xxxxxxxxxx\n"
     ]
    }
   ],
   "source": [
    "import os\n",
    "from dotenv import load_dotenv\n",
    "\n",
    "# Load the environment variables from the main.env file\n",
    "load_dotenv(\"main.env\")\n",
    "\n",
    "# Get the values of the environment variables\n",
    "os.environ['OPENAI_API_KEY'] = os.getenv(\"OPENAI_API_KEY\")\n",
    "os.environ['PROMPTLAYER_API_KEY'] = os.getenv(\"PROMPTLAYER_API_KEY\")\n",
    "\n",
    "# test to verify the environ variabls are loaded\n",
    "print(os.environ['OPENAI_API_KEY'])\n",
    "print(os.environ['PROMPTLAYER_API_KEY'])"
   ]
  },
  {
   "cell_type": "code",
   "execution_count": 51,
   "id": "09f3dd60-e3e3-4a73-b64f-1cf127d96da0",
   "metadata": {},
   "outputs": [],
   "source": [
    "\n",
    "from langchain.agents import Tool, AgentExecutor, LLMSingleActionAgent, AgentOutputParser\n",
    "from langchain.prompts import StringPromptTemplate\n",
    "from langchain import SerpAPIWrapper, LLMChain #OpenAI\n",
    "from promptlayer.langchain.llms import openai\n",
    "from typing import List, Union\n",
    "from langchain.schema import AgentAction, AgentFinish\n",
    "import re"
   ]
  },
  {
   "cell_type": "code",
   "execution_count": 40,
   "id": "f0837c75-d0ba-45a0-95b2-f50836613373",
   "metadata": {},
   "outputs": [],
   "source": []
  },
  {
   "cell_type": "markdown",
   "id": "07a73ec4-5c9d-4266-ba20-a69ea368e8da",
   "metadata": {},
   "source": [
    "## Set up the base template"
   ]
  },
  {
   "cell_type": "code",
   "execution_count": 213,
   "id": "d1c1b78a-7459-4e72-a6d0-dece151ecbba",
   "metadata": {},
   "outputs": [],
   "source": [
    "## Set up the base template\n",
    "from langchain import PromptTemplate\n",
    "\n",
    "template = \"\"\"You are {character}, advising {advisee_name} on how to complete a task. Use your character's <motivational_quote>s that applies to each subtask. For <how> use vivid and descriptive language and maintain the vocabulary and voice of  {character}. \n",
    "\n",
    "' ' ' User Input: \n",
    "name: {advisee_name}\n",
    "main_task_n: {main_task}\n",
    "character: {character}\n",
    "' ' '\n",
    "' ' '\n",
    "respond in the following YAML structure:\n",
    "main_task_n:\n",
    "  name: \n",
    "  Subtasks:\n",
    "  - name: \n",
    "    how: \n",
    "    motivational_quote: \n",
    "  - name: \n",
    "    how: \n",
    "    motivational_quote: \n",
    "  - name: \n",
    "    how: \n",
    "    motivational_quote: \n",
    "  summary_encouragement: (Give some final advice as a mentor assuming they have not yet started the subtasks)\n",
    "' ' '\"\"\"\n",
    "\n",
    "prompt = PromptTemplate(\n",
    "    input_variables=[\"character\", \"advisee_name\", \"main_task\"],\n",
    "    template=template,\n",
    ")"
   ]
  },
  {
   "cell_type": "code",
   "execution_count": 214,
   "id": "03c84daa-f78e-4c12-9ec4-f16327968691",
   "metadata": {},
   "outputs": [],
   "source": [
    "character = \"Barak Obama\"\n",
    "advisee_name = \"Bobby Boy\"\n",
    "main_task = \"Clean the kitchen\""
   ]
  },
  {
   "cell_type": "code",
   "execution_count": 215,
   "id": "4755045c-d882-4c54-8e67-64b96dbf5be4",
   "metadata": {},
   "outputs": [
    {
     "name": "stderr",
     "output_type": "stream",
     "text": [
      "/Users/rmccarthy/anaconda3/lib/python3.10/site-packages/langchain/llms/openai.py:667: UserWarning: You are trying to use a chat model. This way of initializing it is no longer supported. Instead, please use: `from langchain.chat_models import ChatOpenAI`\n",
      "  warnings.warn(\n"
     ]
    },
    {
     "name": "stdout",
     "output_type": "stream",
     "text": [
      "\n",
      "\n",
      "\u001b[1m> Entering new LLMChain chain...\u001b[0m\n",
      "Prompt after formatting:\n",
      "\u001b[32;1m\u001b[1;3mYou are Barak Obama, advising Bobby Boy on how to complete a task. Use your character's <motivational_quote>s that applies to each subtask. For <how> use vivid and descriptive language and maintain the vocabulary and voice of  Barak Obama. \n",
      "\n",
      "' ' ' User Input: \n",
      "name: Bobby Boy\n",
      "main_task_n: Clean the kitchen\n",
      "character: Barak Obama\n",
      "' ' '\n",
      "' ' '\n",
      "respond in the following YAML structure:\n",
      "main_task_n:\n",
      "  name: \n",
      "  Subtasks:\n",
      "  - name: \n",
      "    how: \n",
      "    motivational_quote: \n",
      "  - name: \n",
      "    how: \n",
      "    motivational_quote: \n",
      "  - name: \n",
      "    how: \n",
      "    motivational_quote: \n",
      "  summary_encouragement: (Give some final advice as a mentor assuming they have not yet started the subtasks)\n",
      "' ' '\u001b[0m\n",
      "\n",
      "\u001b[1m> Finished chain.\u001b[0m\n"
     ]
    }
   ],
   "source": [
    "#from langchain.llms import OpenAIChat\n",
    "from langchain.llms import OpenAIChat\n",
    "#llm = PromptLayerOpenAI(temperature=0.1, model_name=\"gpt-3.5-turbo\")\n",
    "llm=OpenAIChat(model='gpt-3.5-turbo')\n",
    "\n",
    "chain = LLMChain(llm=llm, prompt=prompt, verbose=True)\n",
    "\n",
    "# Run the chain only specifying the input variable.\n",
    "subtasks = chain.run({'character': character, 'advisee_name': advisee_name,'main_task': main_task})\n"
   ]
  },
  {
   "cell_type": "code",
   "execution_count": 164,
   "id": "b9c3b9b7-65d7-4ee8-a34a-bd84e9585290",
   "metadata": {},
   "outputs": [
    {
     "name": "stdout",
     "output_type": "stream",
     "text": [
      "Clean the kitchen:\n",
      "  name: Bobby Boy\n",
      "  Subtasks:\n",
      "  - name: Clear the counters\n",
      "    how: Begin by removing all the unnecessary items from the kitchen counters. Use a damp cloth to wipe off any dust or food debris.\n",
      "    motivational_quote: \"Change will not come if we wait for some other person or some other time. We are the ones we’ve been waiting for. We are the change that we seek.\"\n",
      "  - name: Wash the dishes\n",
      "    how: Collect all the dirty dishes, glasses and utensils and proceed to clean them with a sponge using hot, soapy water. Rinse with hot water and let them dry.\n",
      "    motivational_quote: \"If you're walking down the right path and you're willing to keep walking, eventually you'll make progress.\"\n",
      "  - name: Mop the floor\n",
      "    how: Sweep the floor to remove any loose debris. Then prepare a bucket of hot soapy water and mop the floor. Be sure to wring out the mop before each pass to avoid streaks.\n",
      "    motivational_quote: \"The future rewards those who press on. I don't have time to feel sorry for myself, I don't have time to complain. I'm going to press on.\"\n",
      "  summary_encouragement: \"Good job Bobby Boy! Your hard work paid off. A clean kitchen is a pleasant to work in and it's also hygienic. Keep up the good work!\"\n"
     ]
    }
   ],
   "source": [
    "print(subtasks)"
   ]
  },
  {
   "cell_type": "code",
   "execution_count": 216,
   "id": "da2e02c2-92f4-4d18-a9c2-56fac5cb001d",
   "metadata": {},
   "outputs": [
    {
     "data": {
      "text/plain": [
       "str"
      ]
     },
     "execution_count": 216,
     "metadata": {},
     "output_type": "execute_result"
    }
   ],
   "source": [
    "\n",
    "subtasks_parse_quote = subtasks.replace('\"', '')\n",
    "type(subtasks_parse_quote)"
   ]
  },
  {
   "cell_type": "code",
   "execution_count": 225,
   "id": "e6066943-406e-42f2-a1d6-97660aa16242",
   "metadata": {},
   "outputs": [
    {
     "name": "stdout",
     "output_type": "stream",
     "text": [
      "Remember, a clean kitchen is not just about cleanliness. It's about peace of mind, and it's about doing something good for yourself and your family. So let's get to work, Bobby Boy!\n"
     ]
    }
   ],
   "source": [
    "import yaml\n",
    "import pandas as pd\n",
    "\n",
    "yaml_str = subtasks_parse_quote\n",
    "\n",
    "# Parse the YAML string\n",
    "yaml_obj = yaml.safe_load(yaml_str)\n",
    "\n",
    "# Convert to pandas dataframe\n",
    "#df = pd.pandas.json_normalize(yaml_obj)\n",
    "df = pd.DataFrame(yaml_obj)\n",
    "\n",
    "#output_subtasks = df.loc[\"Subtasks\", df.columns[0]]\n",
    "#print(df.loc[\"Subtasks\", df.columns[0]])\n",
    "# Print the dataframe\n",
    "#print(df)\n",
    "print(df.loc[\"summary_encouragement\",df.columns[0]])"
   ]
  },
  {
   "cell_type": "code",
   "execution_count": 253,
   "id": "7b645dce-effc-4b1a-9761-c9da16604a52",
   "metadata": {},
   "outputs": [
    {
     "name": "stdout",
     "output_type": "stream",
     "text": [
      "Task 1: Clear the countertops\n",
      "How: Begin by moving all items off of the counters and onto the dining room table. Wipe the counters with a damp cloth to remove any debris or crumbs.\n",
      "Quote: \"Change will not come if we wait for some other person or some other time. We are the ones we've been waiting for. We are the change that we seek.\"\n",
      "\n",
      "Task 2: Wash the dishes\n",
      "How: Start by filling the sink with hot soapy water. Begin washing the dishes one by one, starting with the least dirty. Scrub, rinse, and stack each item in the drying rack once clean.\n",
      "Quote: \"If you're walking down the right path and you're willing to keep walking, eventually you'll make progress.\"\n",
      "\n",
      "Task 3: Sweep and mop the floor\n",
      "How: Start sweeping the floor with a broom, getting into the corners and under the baseboards. Once all debris is picked up, begin mopping the floor with hot soapy water. Use a clean mop head to prevent streaking.\n",
      "Quote: \"We need to internalize this idea of excellence. Not many folks spend a lot of time trying to be excellent.\"\n",
      "\n",
      "\n",
      "\n",
      "Summary:  Remember, a clean kitchen is not just about cleanliness. It's about peace of mind, and it's about doing something good for yourself and your family. So let's get to work, Bobby Boy!\n"
     ]
    }
   ],
   "source": [
    "#import streamlit as st\n",
    "#import pandas as pd\n",
    "\n",
    "# Create an empty list\n",
    "tasks = []\n",
    "\n",
    "# Loop over the dictionary column\n",
    "for i, task in enumerate(df.loc[\"Subtasks\", df.columns[0]]):\n",
    "  # Get the values for each key\n",
    "  name = task.get('name')\n",
    "  how = task.get('how')\n",
    "  quote = task.get('motivational_quote')\n",
    "\n",
    "  # Append a tuple of the values to the list\n",
    "  tasks.append((i+1, name, how, quote))\n",
    "\n",
    "# Create a new dataframe from the list\n",
    "new_df = pd.DataFrame(tasks, columns=[\"Task number\", \"name\", \"how\", \"motivational_quote\"])\n",
    "\n",
    "# Print the new dataframe\n",
    "#print(new_df)\n",
    "\n",
    "\n",
    "# Loop over the rows of the new dataframe\n",
    "for index, row in new_df.iterrows():\n",
    "  # Get the values for each column\n",
    "  task_number = row[\"Task number\"]\n",
    "  name = row[\"name\"]\n",
    "  how = row[\"how\"]\n",
    "  quote = row[\"motivational_quote\"]\n",
    "\n",
    "  # Print them in a formatted way\n",
    "  print(f'Task {task_number}: {name}\\nHow: {how}\\nQuote: \"{quote}\"\\n');\n",
    "\n",
    "  # Display them using streamlit.write()\n",
    "  #st.write(f\"Subtask{i+1}: {name}\")\n",
    "  #st.write(f\"How: {how}\")\n",
    "  #st.write(f\"Motivational quote: {quote}\")\n",
    "  #st.write(\"\\n\")\n",
    "\n",
    "print(\"\\n\\nSummary: \" , df.loc[\"summary_encouragement\",df.columns[0]])"
   ]
  },
  {
   "cell_type": "code",
   "execution_count": null,
   "id": "315e0164-0aa5-40e7-a646-ceae478e1c1b",
   "metadata": {},
   "outputs": [
    {
     "data": {
      "text/plain": [
       "ruamel.yaml.comments.CommentedSeq"
      ]
     },
     "execution_count": 110,
     "metadata": {},
     "output_type": "execute_result"
    }
   ],
   "source": [
    "\n"
   ]
  },
  {
   "cell_type": "code",
   "execution_count": 117,
   "id": "dbc99ff7-9ad8-4c54-b7e6-9f9b70e10561",
   "metadata": {},
   "outputs": [
    {
     "ename": "AttributeError",
     "evalue": "'str' object has no attribute 'get'",
     "output_type": "error",
     "traceback": [
      "\u001b[0;31m---------------------------------------------------------------------------\u001b[0m",
      "\u001b[0;31mAttributeError\u001b[0m                            Traceback (most recent call last)",
      "Cell \u001b[0;32mIn[117], line 18\u001b[0m\n\u001b[1;32m     16\u001b[0m \u001b[38;5;66;03m# Access the properties of each item\u001b[39;00m\n\u001b[1;32m     17\u001b[0m \u001b[38;5;28;01mfor\u001b[39;00m item \u001b[38;5;129;01min\u001b[39;00m parsed_data:\n\u001b[0;32m---> 18\u001b[0m     name \u001b[38;5;241m=\u001b[39m \u001b[43mitem\u001b[49m\u001b[38;5;241;43m.\u001b[39;49m\u001b[43mget\u001b[49m(\u001b[38;5;124m\"\u001b[39m\u001b[38;5;124mname\u001b[39m\u001b[38;5;124m\"\u001b[39m)\n\u001b[1;32m     19\u001b[0m     how \u001b[38;5;241m=\u001b[39m item\u001b[38;5;241m.\u001b[39mget(\u001b[38;5;124m\"\u001b[39m\u001b[38;5;124mhow\u001b[39m\u001b[38;5;124m\"\u001b[39m)\n\u001b[1;32m     20\u001b[0m     motivational_quote \u001b[38;5;241m=\u001b[39m item\u001b[38;5;241m.\u001b[39mget(\u001b[38;5;124m\"\u001b[39m\u001b[38;5;124mmotivational_quote\u001b[39m\u001b[38;5;124m\"\u001b[39m)\n",
      "\u001b[0;31mAttributeError\u001b[0m: 'str' object has no attribute 'get'"
     ]
    }
   ],
   "source": [
    "\n"
   ]
  },
  {
   "cell_type": "code",
   "execution_count": 20,
   "id": "5eaf79dd-d411-4449-bc95-7777b91b3d28",
   "metadata": {},
   "outputs": [],
   "source": []
  },
  {
   "cell_type": "code",
   "execution_count": 27,
   "id": "526b3aaf-5c40-491e-b255-e1bba4e8a567",
   "metadata": {},
   "outputs": [],
   "source": []
  },
  {
   "cell_type": "code",
   "execution_count": 28,
   "id": "be77ab7d-0c67-4252-a9fc-a38497d097ed",
   "metadata": {},
   "outputs": [],
   "source": []
  },
  {
   "cell_type": "code",
   "execution_count": 30,
   "id": "7a78dae2-de9c-4038-b0f7-3e5b3f01ee59",
   "metadata": {},
   "outputs": [],
   "source": []
  },
  {
   "cell_type": "code",
   "execution_count": 31,
   "id": "1ca1483f-58e7-4caf-a20c-03aacf37262c",
   "metadata": {},
   "outputs": [],
   "source": []
  },
  {
   "cell_type": "code",
   "execution_count": 32,
   "id": "c140aa98-c24a-4834-bcce-fac8b2662df9",
   "metadata": {},
   "outputs": [],
   "source": []
  },
  {
   "cell_type": "code",
   "execution_count": null,
   "id": "9d83547c-300a-405a-98a4-71bf8ab9d600",
   "metadata": {},
   "outputs": [],
   "source": []
  },
  {
   "cell_type": "code",
   "execution_count": null,
   "id": "dc1b0e8a-0e57-4c10-94ca-d8e3052ee922",
   "metadata": {},
   "outputs": [],
   "source": []
  }
 ],
 "metadata": {
  "kernelspec": {
   "display_name": "Python 3 (ipykernel)",
   "language": "python",
   "name": "python3"
  },
  "language_info": {
   "codemirror_mode": {
    "name": "ipython",
    "version": 3
   },
   "file_extension": ".py",
   "mimetype": "text/x-python",
   "name": "python",
   "nbconvert_exporter": "python",
   "pygments_lexer": "ipython3",
   "version": "3.10.9"
  }
 },
 "nbformat": 4,
 "nbformat_minor": 5
}
